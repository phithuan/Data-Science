{
 "cells": [
  {
   "cell_type": "code",
   "execution_count": 18,
   "metadata": {},
   "outputs": [],
   "source": [
    "import requests\n",
    "from bs4 import BeautifulSoup"
   ]
  },
  {
   "cell_type": "code",
   "execution_count": 19,
   "metadata": {},
   "outputs": [],
   "source": [
    "url = \"https://www.cophieu68.vn/index.php\"\n",
    "response = requests.get(url)# Gửi yêu cầu GET đến trang web và lấy nội dung"
   ]
  },
  {
   "cell_type": "code",
   "execution_count": 20,
   "metadata": {},
   "outputs": [
    {
     "data": {
      "text/plain": [
       "<Response [200]>"
      ]
     },
     "execution_count": 20,
     "metadata": {},
     "output_type": "execute_result"
    }
   ],
   "source": [
    "response #ra 200 là crawl được, ra số khác thì tự lên gg coi"
   ]
  },
  {
   "cell_type": "code",
   "execution_count": 38,
   "metadata": {},
   "outputs": [
    {
     "name": "stdout",
     "output_type": "stream",
     "text": [
      "<tr class=\"tr_header\">\n",
      "<td>Mã CK</td>\n",
      "<td align=\"right\">Giá</td>\n",
      "<td align=\"right\">+/-</td>\n",
      "<td align=\"right\">Khối lượng</td>\n",
      "<td align=\"right\" class=\"min768\">Tham chiếu</td>\n",
      "<td align=\"right\">Cao nhất</td>\n",
      "<td align=\"right\">Thấp nhất</td>\n",
      "</tr>\n"
     ]
    }
   ],
   "source": [
    "if response.status_code == 200:\n",
    "    soup = BeautifulSoup(response.content, 'html.parser')\n",
    "    table = soup.find('table', class_='rs_50d_100m')\n",
    "    col = table.find_all('tr')\n",
    "    print(col[0])"
   ]
  },
  {
   "cell_type": "code",
   "execution_count": 33,
   "metadata": {},
   "outputs": [
    {
     "name": "stdout",
     "output_type": "stream",
     "text": [
      "<tr bgcolor=\"#FF0000\" class=\"stock_online tr1\" data-ceiling=\"22.85\" data-floor=\"19.95\" data-id=\"vpb\" data-open=\"21.40\" id=\"vpb_tr\" onmouseout=\"outTR(this)\" onmouseover=\"hoverTR(this)\" style=\"cursor:pointer;\">\n",
      "<td style=\"font-weight:bold\">\n",
      "<a class=\"remove_in_stockname function_in_action\" data-id=\"vpb\" style=\"color:#FF0000; text-decoration:none; display:none\"><i class=\"fa-solid fa-xmark\"></i>   </a>\n",
      "<a class=\"stockname\" href=\"https://www.cophieu68.vn/quote/summary.php?id=vpb\">vpb</a> </td>\n",
      "<td align=\"right\" class=\"priceup\" data-attr=\"close\" data-value=\"21.60\">21.60</td>\n",
      "<td align=\"right\" class=\"priceup\" data-attr=\"price_change\" data-value=\"0.20\">0.20</td>\n",
      "<td align=\"right\" data-attr=\"volume\" data-value=\"11693200\">11,693,200</td>\n",
      "<td align=\"right\" data-attr=\"previous_open\" data-value=\"21.40\">21.40</td>\n",
      "<td align=\"right\" class=\"priceup\" data-attr=\"price_highest\" data-value=\"21.60\">21.60</td>\n",
      "<td align=\"right\" class=\"pricedown\" data-attr=\"price_lowest\" data-value=\"21.30\">21.30</td>\n",
      "</tr>\n"
     ]
    }
   ],
   "source": [
    "# Tìm tất cả các hàng (rows) trong bảng có class là \"stock_online\"\n",
    "rows = soup.find_all(\"tr\", class_=\"stock_online\")\n",
    "print(rows[1])  "
   ]
  },
  {
   "cell_type": "code",
   "execution_count": null,
   "metadata": {},
   "outputs": [],
   "source": []
  }
 ],
 "metadata": {
  "kernelspec": {
   "display_name": "base",
   "language": "python",
   "name": "python3"
  },
  "language_info": {
   "codemirror_mode": {
    "name": "ipython",
    "version": 3
   },
   "file_extension": ".py",
   "mimetype": "text/x-python",
   "name": "python",
   "nbconvert_exporter": "python",
   "pygments_lexer": "ipython3",
   "version": "3.10.9"
  }
 },
 "nbformat": 4,
 "nbformat_minor": 2
}
