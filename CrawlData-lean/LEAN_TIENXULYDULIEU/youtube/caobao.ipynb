{
 "cells": [
  {
   "cell_type": "code",
   "execution_count": 1,
   "metadata": {},
   "outputs": [],
   "source": [
    "import requests\n",
    "from bs4 import BeautifulSoup\n",
    "#ctrl F để tìm kím streen web"
   ]
  },
  {
   "cell_type": "code",
   "execution_count": 4,
   "metadata": {},
   "outputs": [
    {
     "name": "stdout",
     "output_type": "stream",
     "text": [
      "<Response [200]>\n"
     ]
    }
   ],
   "source": [
    "r = requests.get('https://tuoitre.vn/tin-moi-nhat.htm')\n",
    "print (r)"
   ]
  },
  {
   "cell_type": "code",
   "execution_count": 5,
   "metadata": {},
   "outputs": [],
   "source": [
    "xuly = BeautifulSoup(r.text, 'html.parser')\n",
    "#print(xuly)"
   ]
  },
  {
   "cell_type": "code",
   "execution_count": 6,
   "metadata": {},
   "outputs": [
    {
     "name": "stdout",
     "output_type": "stream",
     "text": [
      "[<h3 class=\"box-title-text\" data-comment=\"20231012131242143\">\n",
      "<a class=\"box-category-link-title\" data-id=\"20231012131242143\" data-linktype=\"newsdetail\" data-newstype=\"0\" data-objecttype=\"\" data-type=\"0\" href=\"/van-de-moi-cua-lang-xe-thieu-tho-dien-du-tay-nghe-sua-tram-sac-20231012131242143.htm\" title=\"Vấn đề mới của làng xe Mỹ: Thiếu thợ điện đủ tay nghề sửa trạm sạc\">Vấn đề mới của làng xe Mỹ: Thiếu thợ điện đủ tay nghề sửa trạm sạc</a>\n",
      "</h3>, <h3 class=\"box-title-text\" data-comment=\"20231014124130567\">\n",
      "<a class=\"box-category-link-title\" data-id=\"20231014124130567\" data-linktype=\"newsdetail\" data-newstype=\"0\" data-objecttype=\"\" data-type=\"0\" href=\"/nguoi-tre-truyen-nang-luong-tich-cuc-2023-cap-doi-lang-xiec-va-giac-mo-dua-xiec-viet-ra-the-gioi-20231014124130567.htm\" title=\"Người trẻ truyền năng lượng tích cực 2023: Cặp đôi làng xiếc và giấc mơ đưa xiếc Việt ra thế giới\">Người trẻ truyền năng lượng tích cực 2023: Cặp đôi làng xiếc và giấc mơ đưa xiếc Việt ra thế giới</a>\n",
      "</h3>, <h3 class=\"box-title-text\" data-comment=\"2023101411480687\">\n",
      "<a class=\"box-category-link-title\" data-id=\"2023101411480687\" data-linktype=\"newsdetail\" data-newstype=\"0\" data-objecttype=\"\" data-type=\"0\" href=\"/mac-benh-sau-rang-va-nha-chu-can-than-mat-rang-2023101411480687.htm\" title=\"Mắc bệnh sâu răng và nha chu, cẩn thận mất răng\">Mắc bệnh sâu răng và nha chu, cẩn thận mất răng</a>\n",
      "</h3>, <h3 class=\"box-title-text\" data-comment=\"20231014131245711\">\n",
      "<a class=\"box-category-link-title\" data-id=\"20231014131245711\" data-linktype=\"newsdetail\" data-newstype=\"0\" data-objecttype=\"\" data-type=\"0\" href=\"/bat-tam-giam-pho-chu-tich-phuong-o-ha-noi-vi-chiem-doat-tien-cua-doanh-nghiep-20231014131245711.htm\" title=\"Bắt tạm giam phó chủ tịch phường ở Hà Nội vì chiếm đoạt tiền của doanh nghiệp\">Bắt tạm giam phó chủ tịch phường ở Hà Nội vì chiếm đoạt tiền của doanh nghiệp</a>\n",
      "</h3>, <h3 class=\"box-title-text\" data-comment=\"20231014121517062\">\n",
      "<a class=\"box-category-link-title\" data-id=\"20231014121517062\" data-linktype=\"newsdetail\" data-newstype=\"0\" data-objecttype=\"\" data-type=\"0\" href=\"/nho-mai-tuyen-duong-1c-huyen-thoai-cua-the-he-thanh-nien-xung-phong-20231014121517062.htm\" title=\"Nhớ mãi tuyến đường 1C huyền thoại của thế hệ thanh niên xung phong\">Nhớ mãi tuyến đường 1C huyền thoại của thế hệ thanh niên xung phong</a>\n",
      "</h3>, <h3 class=\"box-title-text\" data-comment=\"20231014124040588\">\n",
      "<a class=\"box-category-link-title\" data-id=\"20231014124040588\" data-linktype=\"newsdetail\" data-newstype=\"0\" data-objecttype=\"\" data-type=\"0\" href=\"/lao-tuong-nguoi-stieng-du-giai-bong-da-cong-nhan-toan-quoc-20231014124040588.htm\" title=\"‘Lão tướng’ người Stiêng dự Giải bóng đá công nhân toàn quốc\">‘Lão tướng’ người Stiêng dự Giải bóng đá công nhân toàn quốc</a>\n",
      "</h3>, <h3 class=\"box-title-text\" data-comment=\"20231014122421777\">\n",
      "<a class=\"box-category-link-title\" data-id=\"20231014122421777\" data-linktype=\"newsdetail\" data-newstype=\"0\" data-objecttype=\"\" data-type=\"1\" href=\"/lan-dau-tien-toi-duoc-kham-suc-khoe-mien-phi-mung-qua-20231014122421777.htm\" title=\"'Lần đầu tiên tôi được khám sức khỏe miễn phí, mừng quá'\">'Lần đầu tiên tôi được khám sức khỏe miễn phí, mừng quá'</a>\n",
      "</h3>, <h3 class=\"box-title-text\" data-comment=\"20231014125227158\">\n",
      "<a class=\"box-category-link-title\" data-id=\"20231014125227158\" data-linktype=\"newsdetail\" data-newstype=\"0\" data-objecttype=\"\" data-type=\"30\" href=\"/nam-nay-da-co-46-cong-chuc-toa-an-bi-ky-luat-20231014125227158.htm\" title=\"Năm nay đã có 46 công chức tòa án bị kỷ luật\">Năm nay đã có 46 công chức tòa án bị kỷ luật</a>\n",
      "</h3>, <h3 class=\"box-title-text\" data-comment=\"20231014123855692\">\n",
      "<a class=\"box-category-link-title\" data-id=\"20231014123855692\" data-linktype=\"newsdetail\" data-newstype=\"0\" data-objecttype=\"\" data-type=\"0\" href=\"/quoc-lo-1-qua-da-nang-van-con-nhieu-doan-ngap-sau-20231014123855692.htm\" title=\"Quốc lộ 1 qua Đà Nẵng vẫn còn nhiều đoạn ngập sâu\">Quốc lộ 1 qua Đà Nẵng vẫn còn nhiều đoạn ngập sâu</a>\n",
      "</h3>, <h3 class=\"box-title-text\" data-comment=\"20231014113947592\">\n",
      "<a class=\"box-category-link-title\" data-id=\"20231014113947592\" data-linktype=\"newsdetail\" data-newstype=\"0\" data-objecttype=\"\" data-type=\"0\" href=\"/saigon-heat-ap-dao-tai-le-tong-ket-vba-awards-2023-20231014113947592.htm\" title=\"Saigon Heat áp đảo tại lễ tổng kết VBA Awards 2023\">Saigon Heat áp đảo tại lễ tổng kết VBA Awards 2023</a>\n",
      "</h3>, <h3 class=\"box-title-text\" data-comment=\"20231014125222902\">\n",
      "<a class=\"box-category-link-title\" data-id=\"20231014125222902\" data-linktype=\"newsdetail\" data-newstype=\"0\" data-objecttype=\"\" data-type=\"0\" href=\"/microsoft-chot-vu-thau-tom-lon-nhat-lich-su-nganh-tro-choi-dien-tu-the-gioi-20231014125222902.htm\" title=\"Microsoft 'chốt' vụ thâu tóm lớn nhất lịch sử ngành trò chơi điện tử thế giới\">Microsoft 'chốt' vụ thâu tóm lớn nhất lịch sử ngành trò chơi điện tử thế giới</a>\n",
      "</h3>, <h3 class=\"box-title-text\" data-comment=\"20231014122306666\">\n",
      "<a class=\"box-category-link-title\" data-id=\"20231014122306666\" data-linktype=\"newsdetail\" data-newstype=\"0\" data-objecttype=\"\" data-type=\"0\" href=\"/tong-bi-thu-cu-cay-minh-la-can-bo-cap-tren-di-xuong-hanh-hoe-voi-dan-la-khong-duoc-20231014122306666.htm\" title=\"Tổng bí thư: 'Cứ cậy mình là cán bộ cấp trên đi xuống hoạnh họe với dân là không được'\">Tổng bí thư: 'Cứ cậy mình là cán bộ cấp trên đi xuống hoạnh họe với dân là không được'</a>\n",
      "</h3>, <h3 class=\"box-title-text\" data-comment=\"20231014054350394\">\n",
      "<a class=\"box-category-link-title\" data-id=\"20231014054350394\" data-linktype=\"newsdetail\" data-newstype=\"1\" data-objecttype=\"\" data-type=\"1\" href=\"/hoc-sinh-cap-2-chay-xe-may-pham-luat-sai-nhieu-thanh-quen-20231014054350394.htm\" title=\"Học sinh cấp 2 chạy xe máy phạm luật, sai nhiều thành quen?\">Học sinh cấp 2 chạy xe máy phạm luật, sai nhiều thành quen?</a>\n",
      "</h3>, <h3 class=\"box-title-text\" data-comment=\"20231012181606419\">\n",
      "<a class=\"box-category-link-title\" data-id=\"20231012181606419\" data-linktype=\"newsdetail\" data-newstype=\"1\" data-objecttype=\"\" data-type=\"1\" href=\"/toyota-innova-cross-ra-mat-gia-tu-810-trieu-dong-de-doa-hyundai-custin-20231012181606419.htm\" title=\"Toyota Innova Cross ra mắt: Giá từ 810 triệu đồng, đe dọa Hyundai Custin\">Toyota Innova Cross ra mắt: Giá từ 810 triệu đồng, đe dọa Hyundai Custin</a>\n",
      "</h3>, <h3 class=\"box-title-text\" data-comment=\"20231014113925312\">\n",
      "<a class=\"box-category-link-title\" data-id=\"20231014113925312\" data-linktype=\"newsdetail\" data-newstype=\"0\" data-objecttype=\"\" data-type=\"0\" href=\"/thu-tuong-chu-truong-co-che-chinh-sach-luon-ho-tro-khuyen-khich-phu-nu-khoi-nghiep-20231014113925312.htm\" title=\"Thủ tướng: Chủ trương, cơ chế, chính sách luôn hỗ trợ, khuyến khích phụ nữ khởi nghiệp\">Thủ tướng: Chủ trương, cơ chế, chính sách luôn hỗ trợ, khuyến khích phụ nữ khởi nghiệp</a>\n",
      "</h3>, <h3 class=\"box-title-text\" data-comment=\"20231014112646661\">\n",
      "<a class=\"box-category-link-title\" data-id=\"20231014112646661\" data-linktype=\"newsdetail\" data-newstype=\"1\" data-objecttype=\"\" data-type=\"1\" href=\"/ron-rang-le-hoi-kate-nguoi-cham-o-binh-thuan-20231014112646661.htm\" title=\"Rộn ràng Lễ hội Katê người Chăm ở Bình Thuận\">Rộn ràng Lễ hội Katê người Chăm ở Bình Thuận</a>\n",
      "</h3>, <h3 class=\"box-title-text\" data-comment=\"20231006230517251\">\n",
      "<a class=\"box-category-link-title\" data-id=\"20231006230517251\" data-linktype=\"newsdetail\" data-newstype=\"0\" data-objecttype=\"\" data-type=\"0\" href=\"/mo-lop-day-them-tieng-nhat-tai-nha-co-phai-xin-phep-khong-20231006230517251.htm\" title=\"Mở lớp dạy thêm tiếng Nhật tại nhà có phải xin phép không?\">Mở lớp dạy thêm tiếng Nhật tại nhà có phải xin phép không?</a>\n",
      "</h3>, <h3 class=\"box-title-text\" data-comment=\"20231014112011453\">\n",
      "<a class=\"box-category-link-title\" data-id=\"20231014112011453\" data-linktype=\"newsdetail\" data-newstype=\"0\" data-objecttype=\"\" data-type=\"0\" href=\"/nghe-si-kim-cuong-nho-be-sang-di-thao-trong-la-sau-rieng-20231014112011453.htm\" title=\"Nghệ sĩ Kim Cương nhớ ‘bé Sang’ Dị Thảo trong 'Lá sầu riêng'\">Nghệ sĩ Kim Cương nhớ ‘bé Sang’ Dị Thảo trong 'Lá sầu riêng'</a>\n",
      "</h3>, <h3 class=\"box-title-text\" data-comment=\"2023101411380084\">\n",
      "<a class=\"box-category-link-title\" data-id=\"2023101411380084\" data-linktype=\"newsdetail\" data-newstype=\"0\" data-objecttype=\"\" data-type=\"0\" href=\"/cong-nghe-ai-cuu-song-tre-di-tat-tim-bam-sinh-tu-bao-thai-2023101411380084.htm\" title=\"Công nghệ AI cứu sống trẻ dị tật tim bẩm sinh từ bào thai\">Công nghệ AI cứu sống trẻ dị tật tim bẩm sinh từ bào thai</a>\n",
      "</h3>, <h3 class=\"box-title-text\" data-comment=\"20231014105518002\">\n",
      "<a class=\"box-category-link-title\" data-id=\"20231014105518002\" data-linktype=\"newsdetail\" data-newstype=\"0\" data-objecttype=\"\" data-type=\"0\" href=\"/ba-nguyen-thi-le-du-an-phat-trien-phai-dat-loi-ich-nguoi-dan-tren-het-20231014105518002.htm\" title=\"Bà Nguyễn Thị Lệ: Dự án phát triển phải đặt lợi ích người dân trên hết\">Bà Nguyễn Thị Lệ: Dự án phát triển phải đặt lợi ích người dân trên hết</a>\n",
      "</h3>]\n"
     ]
    }
   ],
   "source": [
    "data = xuly.find_all('h3', {'class':'box-title-text'})\n",
    "print (data)"
   ]
  },
  {
   "cell_type": "code",
   "execution_count": 7,
   "metadata": {},
   "outputs": [
    {
     "name": "stdout",
     "output_type": "stream",
     "text": [
      "['Vấn đề mới của làng xe Mỹ: Thiếu thợ điện đủ tay nghề sửa trạm sạc', 'https://tuoitre.vn/van-de-moi-cua-lang-xe-thieu-tho-dien-du-tay-nghe-sua-tram-sac-20231012131242143.htm']\n",
      "['Người trẻ truyền năng lượng tích cực 2023: Cặp đôi làng xiếc và giấc mơ đưa xiếc Việt ra thế giới', 'https://tuoitre.vn/nguoi-tre-truyen-nang-luong-tich-cuc-2023-cap-doi-lang-xiec-va-giac-mo-dua-xiec-viet-ra-the-gioi-20231014124130567.htm']\n",
      "['Mắc bệnh sâu răng và nha chu, cẩn thận mất răng', 'https://tuoitre.vn/mac-benh-sau-rang-va-nha-chu-can-than-mat-rang-2023101411480687.htm']\n",
      "['Bắt tạm giam phó chủ tịch phường ở Hà Nội vì chiếm đoạt tiền của doanh nghiệp', 'https://tuoitre.vn/bat-tam-giam-pho-chu-tich-phuong-o-ha-noi-vi-chiem-doat-tien-cua-doanh-nghiep-20231014131245711.htm']\n",
      "['Nhớ mãi tuyến đường 1C huyền thoại của thế hệ thanh niên xung phong', 'https://tuoitre.vn/nho-mai-tuyen-duong-1c-huyen-thoai-cua-the-he-thanh-nien-xung-phong-20231014121517062.htm']\n",
      "['‘Lão tướng’ người Stiêng dự Giải bóng đá công nhân toàn quốc', 'https://tuoitre.vn/lao-tuong-nguoi-stieng-du-giai-bong-da-cong-nhan-toan-quoc-20231014124040588.htm']\n",
      "[\"'Lần đầu tiên tôi được khám sức khỏe miễn phí, mừng quá'\", 'https://tuoitre.vn/lan-dau-tien-toi-duoc-kham-suc-khoe-mien-phi-mung-qua-20231014122421777.htm']\n",
      "['Năm nay đã có 46 công chức tòa án bị kỷ luật', 'https://tuoitre.vn/nam-nay-da-co-46-cong-chuc-toa-an-bi-ky-luat-20231014125227158.htm']\n",
      "['Quốc lộ 1 qua Đà Nẵng vẫn còn nhiều đoạn ngập sâu', 'https://tuoitre.vn/quoc-lo-1-qua-da-nang-van-con-nhieu-doan-ngap-sau-20231014123855692.htm']\n",
      "['Saigon Heat áp đảo tại lễ tổng kết VBA Awards 2023', 'https://tuoitre.vn/saigon-heat-ap-dao-tai-le-tong-ket-vba-awards-2023-20231014113947592.htm']\n",
      "[\"Microsoft 'chốt' vụ thâu tóm lớn nhất lịch sử ngành trò chơi điện tử thế giới\", 'https://tuoitre.vn/microsoft-chot-vu-thau-tom-lon-nhat-lich-su-nganh-tro-choi-dien-tu-the-gioi-20231014125222902.htm']\n",
      "[\"Tổng bí thư: 'Cứ cậy mình là cán bộ cấp trên đi xuống hoạnh họe với dân là không được'\", 'https://tuoitre.vn/tong-bi-thu-cu-cay-minh-la-can-bo-cap-tren-di-xuong-hanh-hoe-voi-dan-la-khong-duoc-20231014122306666.htm']\n",
      "['Học sinh cấp 2 chạy xe máy phạm luật, sai nhiều thành quen?', 'https://tuoitre.vn/hoc-sinh-cap-2-chay-xe-may-pham-luat-sai-nhieu-thanh-quen-20231014054350394.htm']\n",
      "['Toyota Innova Cross ra mắt: Giá từ 810 triệu đồng, đe dọa Hyundai Custin', 'https://tuoitre.vn/toyota-innova-cross-ra-mat-gia-tu-810-trieu-dong-de-doa-hyundai-custin-20231012181606419.htm']\n",
      "['Thủ tướng: Chủ trương, cơ chế, chính sách luôn hỗ trợ, khuyến khích phụ nữ khởi nghiệp', 'https://tuoitre.vn/thu-tuong-chu-truong-co-che-chinh-sach-luon-ho-tro-khuyen-khich-phu-nu-khoi-nghiep-20231014113925312.htm']\n",
      "['Rộn ràng Lễ hội Katê người Chăm ở Bình Thuận', 'https://tuoitre.vn/ron-rang-le-hoi-kate-nguoi-cham-o-binh-thuan-20231014112646661.htm']\n",
      "['Mở lớp dạy thêm tiếng Nhật tại nhà có phải xin phép không?', 'https://tuoitre.vn/mo-lop-day-them-tieng-nhat-tai-nha-co-phai-xin-phep-khong-20231006230517251.htm']\n",
      "[\"Nghệ sĩ Kim Cương nhớ ‘bé Sang’ Dị Thảo trong 'Lá sầu riêng'\", 'https://tuoitre.vn/nghe-si-kim-cuong-nho-be-sang-di-thao-trong-la-sau-rieng-20231014112011453.htm']\n",
      "['Công nghệ AI cứu sống trẻ dị tật tim bẩm sinh từ bào thai', 'https://tuoitre.vn/cong-nghe-ai-cuu-song-tre-di-tat-tim-bam-sinh-tu-bao-thai-2023101411380084.htm']\n",
      "['Bà Nguyễn Thị Lệ: Dự án phát triển phải đặt lợi ích người dân trên hết', 'https://tuoitre.vn/ba-nguyen-thi-le-du-an-phat-trien-phai-dat-loi-ich-nguoi-dan-tren-het-20231014105518002.htm']\n"
     ]
    }
   ],
   "source": [
    "tonghop = []\n",
    "for i in data:\n",
    "  title = i.a.get('title')\n",
    "  link = 'https://tuoitre.vn'+ i.a.get('href')\n",
    "  tonghop.append([title,link])\n",
    "for i in tonghop:\n",
    "  print(i)"
   ]
  },
  {
   "cell_type": "code",
   "execution_count": null,
   "metadata": {},
   "outputs": [],
   "source": []
  }
 ],
 "metadata": {
  "kernelspec": {
   "display_name": "base",
   "language": "python",
   "name": "python3"
  },
  "language_info": {
   "codemirror_mode": {
    "name": "ipython",
    "version": 3
   },
   "file_extension": ".py",
   "mimetype": "text/x-python",
   "name": "python",
   "nbconvert_exporter": "python",
   "pygments_lexer": "ipython3",
   "version": "3.10.9"
  }
 },
 "nbformat": 4,
 "nbformat_minor": 2
}
