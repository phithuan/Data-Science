{
 "cells": [
  {
   "cell_type": "code",
   "execution_count": 2,
   "metadata": {},
   "outputs": [],
   "source": [
    "# install yfinance package\n",
    "#pip install yfinance"
   ]
  },
  {
   "cell_type": "code",
   "execution_count": 3,
   "metadata": {},
   "outputs": [],
   "source": [
    "import re\n",
    "import json\n",
    "import csv\n",
    "from io import StringIO\n",
    "from bs4 import BeautifulSoup\n",
    "import requests\n",
    "\n",
    "# các thư viện\n",
    "import yfinance as yf\n",
    "import pandas as pd\n",
    "import numpy as np\n",
    "import matplotlib.pyplot as plt"
   ]
  },
  {
   "cell_type": "code",
   "execution_count": 4,
   "metadata": {},
   "outputs": [],
   "source": [
    "aapl = yf.Ticker(\"AAPL\")"
   ]
  },
  {
   "cell_type": "code",
   "execution_count": 5,
   "metadata": {},
   "outputs": [
    {
     "name": "stdout",
     "output_type": "stream",
     "text": [
      "                                                      2024-06-30  \\\n",
      "Treasury Shares Number                                       NaN   \n",
      "Ordinary Shares Number                             15222259000.0   \n",
      "Share Issued                                       15222259000.0   \n",
      "Net Debt                                           75739000000.0   \n",
      "Total Debt                                        101304000000.0   \n",
      "...                                                          ...   \n",
      "Cash Cash Equivalents And Short Term Investments   61801000000.0   \n",
      "Other Short Term Investments                       36236000000.0   \n",
      "Cash And Cash Equivalents                          25565000000.0   \n",
      "Cash Equivalents                                    2699000000.0   \n",
      "Cash Financial                                     22866000000.0   \n",
      "\n",
      "                                                      2024-03-31  \\\n",
      "Treasury Shares Number                                       NaN   \n",
      "Ordinary Shares Number                             15337686000.0   \n",
      "Share Issued                                       15337686000.0   \n",
      "Net Debt                                           71895000000.0   \n",
      "Total Debt                                        104590000000.0   \n",
      "...                                                          ...   \n",
      "Cash Cash Equivalents And Short Term Investments   67150000000.0   \n",
      "Other Short Term Investments                       34455000000.0   \n",
      "Cash And Cash Equivalents                          32695000000.0   \n",
      "Cash Equivalents                                    4468000000.0   \n",
      "Cash Financial                                     28227000000.0   \n",
      "\n",
      "                                                      2023-12-31  \\\n",
      "Treasury Shares Number                                       0.0   \n",
      "Ordinary Shares Number                             15460223000.0   \n",
      "Share Issued                                       15460223000.0   \n",
      "Net Debt                                           67280000000.0   \n",
      "Total Debt                                        108040000000.0   \n",
      "...                                                          ...   \n",
      "Cash Cash Equivalents And Short Term Investments   73100000000.0   \n",
      "Other Short Term Investments                       32340000000.0   \n",
      "Cash And Cash Equivalents                          40760000000.0   \n",
      "Cash Equivalents                                   11218000000.0   \n",
      "Cash Financial                                     29542000000.0   \n",
      "\n",
      "                                                      2023-09-30  \\\n",
      "Treasury Shares Number                                       0.0   \n",
      "Ordinary Shares Number                             15550061000.0   \n",
      "Share Issued                                       15550061000.0   \n",
      "Net Debt                                           81123000000.0   \n",
      "Total Debt                                        123930000000.0   \n",
      "...                                                          ...   \n",
      "Cash Cash Equivalents And Short Term Investments   61555000000.0   \n",
      "Other Short Term Investments                       31590000000.0   \n",
      "Cash And Cash Equivalents                          29965000000.0   \n",
      "Cash Equivalents                                    1606000000.0   \n",
      "Cash Financial                                     28359000000.0   \n",
      "\n",
      "                                                      2023-06-30 2023-03-31  \\\n",
      "Treasury Shares Number                                       NaN        NaN   \n",
      "Ordinary Shares Number                             15647868000.0        NaN   \n",
      "Share Issued                                       15647868000.0        NaN   \n",
      "Net Debt                                           80872000000.0        NaN   \n",
      "Total Debt                                        109280000000.0        NaN   \n",
      "...                                                          ...        ...   \n",
      "Cash Cash Equivalents And Short Term Investments   62482000000.0        NaN   \n",
      "Other Short Term Investments                       34074000000.0        NaN   \n",
      "Cash And Cash Equivalents                          28408000000.0        NaN   \n",
      "Cash Equivalents                                    3071000000.0        NaN   \n",
      "Cash Financial                                     25337000000.0        NaN   \n",
      "\n",
      "                                                 2022-12-31  \n",
      "Treasury Shares Number                                  NaN  \n",
      "Ordinary Shares Number                                  NaN  \n",
      "Share Issued                                            NaN  \n",
      "Net Debt                                                NaN  \n",
      "Total Debt                                              NaN  \n",
      "...                                                     ...  \n",
      "Cash Cash Equivalents And Short Term Investments        NaN  \n",
      "Other Short Term Investments                            NaN  \n",
      "Cash And Cash Equivalents                               NaN  \n",
      "Cash Equivalents                                        NaN  \n",
      "Cash Financial                                          NaN  \n",
      "\n",
      "[70 rows x 7 columns]\n"
     ]
    }
   ],
   "source": [
    "print(aapl.quarterly_balance_sheet)\n",
    "#print(aapl.dividends)"
   ]
  },
  {
   "cell_type": "code",
   "execution_count": 8,
   "metadata": {},
   "outputs": [
    {
     "name": "stderr",
     "output_type": "stream",
     "text": [
      "C:\\Users\\Admin\\AppData\\Local\\Temp\\ipykernel_25560\\4170761979.py:5: UserWarning: Pandas requires version '1.4.3' or newer of 'xlsxwriter' (version '1.1.2' currently installed).\n",
      "  balance_sheet_df.to_excel(\"Apple_data.xlsx\")\n"
     ]
    }
   ],
   "source": [
    "# Lấy bảng cân đối kế toán quý\n",
    "balance_sheet_df = aapl.quarterly_balance_sheet\n",
    "\n",
    "# Lưu vào file Excel\n",
    "balance_sheet_df.to_excel(\"Apple_data.xlsx\")"
   ]
  },
  {
   "cell_type": "code",
   "execution_count": 11,
   "metadata": {},
   "outputs": [
    {
     "name": "stderr",
     "output_type": "stream",
     "text": [
      "C:\\Users\\Admin\\AppData\\Local\\Temp\\ipykernel_25560\\3208190970.py:8: UserWarning: Pandas requires version '1.4.3' or newer of 'xlsxwriter' (version '1.1.2' currently installed).\n",
      "  dividend_df.to_excel(\"Apple_data_dividend.xlsx\")\n"
     ]
    }
   ],
   "source": [
    "# Lấy thông tin về cổ tức\n",
    "dividend_df = aapl.dividends\n",
    "\n",
    "# Chuyển đổi index datetime để loại bỏ thông tin về múi giờ\n",
    "dividend_df.index = pd.to_datetime(dividend_df.index).tz_localize(None)\n",
    "\n",
    "# Lưu vào tệp Excel với tên khác\n",
    "dividend_df.to_excel(\"Apple_data_dividend.xlsx\")"
   ]
  },
  {
   "cell_type": "code",
   "execution_count": null,
   "metadata": {},
   "outputs": [],
   "source": []
  }
 ],
 "metadata": {
  "kernelspec": {
   "display_name": "Python 3",
   "language": "python",
   "name": "python3"
  },
  "language_info": {
   "codemirror_mode": {
    "name": "ipython",
    "version": 3
   },
   "file_extension": ".py",
   "mimetype": "text/x-python",
   "name": "python",
   "nbconvert_exporter": "python",
   "pygments_lexer": "ipython3",
   "version": "3.10.7"
  }
 },
 "nbformat": 4,
 "nbformat_minor": 2
}
