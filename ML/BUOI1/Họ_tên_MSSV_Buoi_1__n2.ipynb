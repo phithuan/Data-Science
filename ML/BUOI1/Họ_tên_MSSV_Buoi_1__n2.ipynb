{
  "cells": [
    {
      "cell_type": "markdown",
      "metadata": {
        "id": "sToKBeTjYjMU"
      },
      "source": [
        "#Bài tập code cơ bản"
      ]
    },
    {
      "cell_type": "markdown",
      "metadata": {
        "id": "_0y4W325X3uT"
      },
      "source": [
        "Chương trình tính tổng 2 số tự nhiên a và b."
      ]
    },
    {
      "cell_type": "code",
      "execution_count": 6,
      "metadata": {
        "id": "QhE2Yku-X8qU"
      },
      "outputs": [
        {
          "name": "stdout",
          "output_type": "stream",
          "text": [
            "Tổng của 2 và 5 là 7\n"
          ]
        }
      ],
      "source": [
        "def sum():\n",
        "    a = int(input(\"Nhập số a: \"))\n",
        "    b = int(input(\"Nhập số b: \"))\n",
        "    c = a + b\n",
        "    print(\"Tổng của\", a, \"và\", b, \"là\", c)\n",
        "\n",
        "sum()\n"
      ]
    },
    {
      "cell_type": "markdown",
      "metadata": {
        "id": "8RbLu6BJX9CD"
      },
      "source": [
        "Em hãy viết chương trình nhập vào 1 dãy số tự nhiên với N số. Sắp xếp các số tự nhiên theo thứ tự tăng dần."
      ]
    },
    {
      "cell_type": "code",
      "execution_count": 19,
      "metadata": {
        "id": "ECwe1MiUYGdb"
      },
      "outputs": [
        {
          "name": "stdout",
          "output_type": "stream",
          "text": [
            "mảng sau khi nhập:  [23, 53, 11]\n",
            "mảng sau khi sắp xếp:  [11, 23, 53]\n"
          ]
        }
      ],
      "source": [
        "def sort_numbers():\n",
        "    # Get the input string and split it into a list of strings\n",
        "    nums_str = input(\"Nhập dãy số vào đây, nhớ có dấu phẩy mới biết nha: \")\n",
        "    nums_list_str = nums_str.split(',')\n",
        "\n",
        "    # Convert the list of strings to a list of integers\n",
        "    nums_list_int = [int(num) for num in nums_list_str] # Đây là biểu thức danh sách, được sử dụng để tạo một danh sách mới từ nums_list_str.\n",
        "                                                        # Lặp qua từng phần tử num trong danh sách nums_list_str.\n",
        "    \n",
        "    print(\"dãy số chưa xấp xếp\",nums_list_int)\n",
        "    # Sort the list of integers\n",
        "    nums_list_int.sort()\n",
        "\n",
        "    # Return the sorted list\n",
        "    return nums_list_int\n",
        "\n",
        "# Call the function and print the sorted list\n",
        "#sorted_list = sort_numbers()\n",
        "#print(\"dãy số khi đã xấp xếp\",sorted_list)\n",
        "\n",
        "def sotunhien():\n",
        "    n = int(input(\"nhập N phần tử: \"))\n",
        "    a = []\n",
        "    for i in range(0,n):\n",
        "        b = int(input(f\"phần tử thứ {i+1} \"))\n",
        "        a.append(b)\n",
        "    print(\"mảng sau khi nhập: \", a)\n",
        "    a.sort(reverse = False) # fales tăng dần\n",
        "    print(\"mảng sau khi sắp xếp: \", a)\n",
        "sotunhien()"
      ]
    },
    {
      "cell_type": "markdown",
      "metadata": {
        "id": "IpPHIMzpYFo7"
      },
      "source": [
        "Em hãy viết chương trình giải phương trình bậc 2"
      ]
    },
    {
      "cell_type": "markdown",
      "metadata": {},
      "source": [
        "Để giải phương trình bậc 2 trong Python, bạn có thể thực hiện theo các bước sau:\n",
        "1. Nhập các hệ số a, b, c từ người dùng. Bạn có thể sử dụng hàm input() để đọc dữ liệu nhập vào từ bàn phím. Ví dụ:\n",
        "a = float(input(\\\"Nhập hệ số a: \\\"))\n",
        "b = float(input(\\\"Nhập hệ số b: \\\"))\n",
        "c = float(input(\\\"Nhập hệ số c: \\\"))\n",
        "2. Tính delta của phương trình bằng cách sử dụng công thức delta = b^2 - 4ac. Bạn có thể sử dụng toán tử mũ (**), ví dụ:\n",
        "delta = b**2 - 4*a*c\n",
        "3. Kiểm tra giá trị của delta để xác định các trường hợp có thể xảy ra:\n",
        "\n",
        "-a. Nếu delta < 0, tức là phương trình không có nghiệm thực. Bạn có thể in ra thông báo tương ứng theo ý muốn.\n",
        "\n",
        "-b. Nếu delta = 0, tức là phương trình có nghiệm kép. Bạn có thể tính nghiệm duy nhất bằng công thức x = -b / (2*a).\n",
        "\n",
        "-c. Nếu delta > 0, tức là phương trình có hai nghiệm phân biệt. Bạn có thể tính hai nghiệm bằng công thức:\n",
        "\n",
        "- x1 = (-b + sqrt(delta)) / (2*a)\n",
        "- x2 = (-b - sqrt(delta)) / (2*a)\n",
        "Trong đó, sqrt(delta) là hàm tính căn bậc hai. Bạn có thể sử dụng hàm math.sqrt(delta) để tính toán giá trị căn bậc hai.\n",
        "4. In kết quả ra màn hình tùy theo trường hợp. Ví dụ:\n",
        "a. Nếu delta < 0:\n",
        "print(\\\"Phương trình không có nghiệm thực.\\\")\n",
        "b. Nếu delta = 0:\n",
        "print(\\\"Phương trình có nghiệm kép x =\\\", -b / (2*a))\n",
        "c. Nếu delta > 0:\n",
        "print(\\\"Phương trình có hai nghiệm phân biệt:\\\")\n",
        "print(\\\"x1 =\\\", (-b + math.sqrt(delta)) / (2*a))\n",
        "print(\\\"x2 =\\\", (-b - math.sqrt(delta)) / (2*a))\n",
        "Vậy là bạn đã giải phương trình bậc 2 trong Python thành công.\n",
        "\n"
      ]
    },
    {
      "cell_type": "code",
      "execution_count": 3,
      "metadata": {
        "id": "nvtWDeqGYt6U"
      },
      "outputs": [
        {
          "name": "stdout",
          "output_type": "stream",
          "text": [
            "giải phương trình bậc nhất\n",
            "có nghiệm là:  -0.032520325203252036\n"
          ]
        }
      ],
      "source": [
        "import math\n",
        "def ptb():\n",
        "    a = float(input(\"nhập hệ số a: \"))\n",
        "    b = float(input(\"nhập hệ số b: \"))\n",
        "    c = float(input(\"nhập hệ số c: \"))\n",
        "\n",
        "    delta =b*b - 4*a*c\n",
        "    if delta < 0:\n",
        "        print(\"phương trình vô nghiệm\")\n",
        "    elif delta == 0:\n",
        "        x = -b/(2*a)\n",
        "        print(\"phương trình có nghiệm kép là: \",x)\n",
        "    else:\n",
        "        x1 = (-b + math.sqrt(delta)) / (2*a)\n",
        "        x2 = (-b - math.sqrt(delta)) / (2*a)\n",
        "        print(\"phương trình có 2 nghiệm là: \",x1,x2)\n",
        "    \n",
        "\n",
        "\n",
        "def ptb2():\n",
        "    import math\n",
        "    a = float(input(\"nhập a = \"))\n",
        "    b = float(input(\"nhập b = \"))\n",
        "    c = float(input(\"nhập c = \"))\n",
        "    d = b*b - 4*a*c\n",
        "    if (a==0):\n",
        "        if(b!=0):\n",
        "            x = float(-c/b)\n",
        "            print(\"giải phương trình bậc nhất\")\n",
        "            print(\"có nghiệm là: \", x)\n",
        "        else:\n",
        "            print(\"phương trình vô nghiệm\")\n",
        "    else:\n",
        "        if(d==0):\n",
        "            x = -b/(2*a)\n",
        "            print(\"phương trình có nghiệm kép là: \", x)\n",
        "        elif(d<0):\n",
        "            print(\"phương trình vô nghiệm\")\n",
        "        else:\n",
        "            x1 = (-b - math.sqrt(d)/(2*a))\n",
        "            x2 = (-b + math.sqrt(d)/(2*a))\n",
        "            print (\"phương trình có 2 nghiệm phân biệt: \")\n",
        "            print (\"x1= \", x1)\n",
        "            print (\"x2= \", x2) \n",
        "ptb2()\n",
        "        "
      ]
    },
    {
      "cell_type": "code",
      "execution_count": null,
      "metadata": {},
      "outputs": [],
      "source": []
    }
  ],
  "metadata": {
    "colab": {
      "provenance": [],
      "toc_visible": true
    },
    "kernelspec": {
      "display_name": "Python 3",
      "name": "python3"
    },
    "language_info": {
      "codemirror_mode": {
        "name": "ipython",
        "version": 3
      },
      "file_extension": ".py",
      "mimetype": "text/x-python",
      "name": "python",
      "nbconvert_exporter": "python",
      "pygments_lexer": "ipython3",
      "version": "3.10.7"
    }
  },
  "nbformat": 4,
  "nbformat_minor": 0
}
