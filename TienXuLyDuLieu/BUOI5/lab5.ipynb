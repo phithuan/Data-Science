{
 "cells": [
  {
   "cell_type": "markdown",
   "metadata": {},
   "source": [
    "# Đọc Audio files\n"
   ]
  },
  {
   "cell_type": "code",
   "execution_count": null,
   "metadata": {},
   "outputs": [],
   "source": [
    "\"\"\"import math, random: Nhóm lệnh import thư viện math để sử dụng các hàm toán học và random để sử dụng các hàm liên quan đến số ngẫu nhiên.\n",
    "\n",
    "import torch: Import thư viện PyTorch.\n",
    "\n",
    "import torchaudio: Import thư viện torchaudio.\n",
    "\n",
    "from torchaudio import transforms: Import module transforms từ thư viện torchaudio. Trong đoạn mã này, có thể sử dụng các phương thức biến đổi âm thanh từ torchaudio.\n",
    "\n",
    "from IPython.display import Audio: Import lớp Audio từ module IPython.display để có thể phát âm thanh trong notebook.\"\"\""
   ]
  },
  {
   "cell_type": "code",
   "execution_count": null,
   "metadata": {},
   "outputs": [],
   "source": [
    "#Explain\n",
    "import math, random\n",
    "import torch\n",
    "import torchaudio\n",
    "from torchaudio import transforms\n",
    "from IPython.display import Audio\n",
    "\n",
    "class AudioUtil():\n",
    "   # ----------------------------\n",
    "   # Load an audio file. Return the signal as a tensor and the sample rate\n",
    "   # ----------------------------\n",
    "   @staticmethod #@staticmethod: Đây là một decorator cho phương thức tĩnh. Phương thức tĩnh thuộc về lớp chứ không thuộc về đối tượng cụ thể của \n",
    "   def open(audio_file): #audio_file: Đường dẫn đến tệp âm thanh.\n",
    "      sig, sr = torchaudio.load(audio_file) #sig, sr = torchaudio.load(audio_file): Sử dụng phương thức load từ thư viện torchaudio để tải tệp âm thanh từ đường dẫn audio_file. Kết quả là một tuple, trong đó sig là dữ liệu âm thanh (tensor) và sr là tần số lấy mẫu (sample rate).\n",
    "      return (sig, sr)  #trả về một tuple (waveform(signal), sample_rate) trong đó waveform là tensor biểu diễn tín hiệu âm thanh và sample_rate là tần số lấy mẫu."
   ]
  },
  {
   "cell_type": "markdown",
   "metadata": {},
   "source": [
    "# Convert to two channels\n",
    "##### Một vài files Audio có thể ở dạng một kênh (mono), trong khi đó một số khác ở dạng hai kênh (stereo). Bởi vì model chỉ chấp nhận dữ liệu có cùng kích thước nên chúng ta sẽ chuyển đổi tất cả sang dạng stereo:"
   ]
  },
  {
   "cell_type": "code",
   "execution_count": null,
   "metadata": {},
   "outputs": [],
   "source": [
    "# ----------------------------\n",
    "# Convert the given audio to the desired number of channels\n",
    "# ----------------------------\n",
    "@staticmethod\n",
    "def rechannel(aud, new_channel):\n",
    "   sig, sr = aud\n",
    "\n",
    "   if (sig.shape[0] == new_channel):\n",
    "      # Nothing to do\n",
    "      return aud\n",
    "\n",
    "   if (new_channel == 1):\n",
    "      # Convert from stereo to mono by selecting only the first channel\n",
    "      resig = sig[:1, :]\n",
    "   else:\n",
    "      # Convert from mono to stereo by duplicating the first channel\n",
    "      resig = torch.cat([sig, sig])\n",
    "\n",
    "   return ((resig, sr))"
   ]
  }
 ],
 "metadata": {
  "kernelspec": {
   "display_name": "Python 3",
   "language": "python",
   "name": "python3"
  },
  "language_info": {
   "name": "python",
   "version": "3.10.7"
  }
 },
 "nbformat": 4,
 "nbformat_minor": 2
}
