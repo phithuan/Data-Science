{
 "cells": [
  {
   "cell_type": "code",
   "execution_count": 2,
   "metadata": {},
   "outputs": [],
   "source": [
    "import re\n",
    "import nltk\n",
    "import pandas as pd\n",
    "import unicodedata # 1\n",
    "import contractions # 2\n",
    "from nltk.stem import WordNetLemmatizer, PorterStemmer # 4, 5\n",
    "from nltk.tokenize import word_tokenize\n",
    "from nltk.corpus import stopwords # 6\n",
    "#Thư viện Natural Language Toolkit (tạm dịch là Bộ công cụ Ngôn ngữ Tự nhiên, viết tắt NLTK) là một nền tảng dẫn đầu để xây dựng các chương trình Python làm việc với dữ liệu ngôn ngữ của con người"
   ]
  },
  {
   "cell_type": "markdown",
   "metadata": {},
   "source": [
    "# preprocessing english"
   ]
  },
  {
   "cell_type": "code",
   "execution_count": 50,
   "metadata": {},
   "outputs": [
    {
     "name": "stdout",
     "output_type": "stream",
     "text": [
      "1  2 ! @ # ? , [] thuan goes to school and is good at jogging\n",
      "2  2 ! @ # ? , [] thuan goes to school and is good at jogging\n",
      "3  2       thuan goes to school and is good at jogging\n",
      "4 ['2', 'thuan', 'go', 'to', 'school', 'and', 'is', 'good', 'at', 'jogging']\n",
      "5 ['2', 'thuan', 'go', 'to', 'school', 'and', 'is', 'good', 'at', 'jog']\n",
      "6 ['2', 'thuan', 'go', 'school', 'good', 'jog']\n",
      "2 thuan go school good jog\n"
     ]
    }
   ],
   "source": [
    "def preprocess_text(text, remove_digits=True):\n",
    "    # 1. Loại bỏ ký tự có dấu (viet nam) và chuyển về chữ lower\n",
    "    text = unicodedata.normalize('NFKD', text).encode('ascii', 'ignore').decode('utf-8', 'ignore')\n",
    "    text = text.lower()\n",
    "    print(\"1\",text)\n",
    "\n",
    "    # 2. Expand contractions tìm và thay thế các từ viết tắt trong văn bản bằng phiên bản đầy đủ của từ hoặc cụm từ đó. Ví dụ: \"I'm\" sẽ được mở rộng thành \"I am\".\n",
    "    text = contractions.fix(text)\n",
    "    print(\"2\",text)\n",
    "\n",
    "    # 3. Remove special characters (bỏ kí tự đặc biệt)\n",
    "    pattern = r'[^a-zA-Z0-9\\s]' if not remove_digits else r'[^\\w\\s]'\n",
    "    text = re.sub(pattern, '', text)\n",
    "    print(\"3\",text)\n",
    "\n",
    "    # 4. Text lemmatization (tách từ)\n",
    "    lemmatizer = WordNetLemmatizer() # áp dụng phương pháp lemmatize của WordNetLemmatizer cho mỗi từ.\n",
    "    words = [lemmatizer.lemmatize(word) for word in nltk.word_tokenize(text)] # nltk.word_tokenize(text): Hàm này chia văn bản thành danh sách các từ (token).\n",
    "    print(\"4\",words)\n",
    "\n",
    "    # 5. Text stemming (sử dụng để giảm các từ về dạng gốc của chúng. Ví dụ, từ “builds”, “building” và “built” sẽ được đưa về dạng gốc “build”\n",
    "    stemmer = PorterStemmer()\n",
    "    words = [stemmer.stem(word) for word in words]\n",
    "    print(\"5\",words)\n",
    "    \n",
    "    # 6. Remove stopwords trong tiếng Anh bao gồm \"the,\" \"and,\" \"of,\" \"in,\" \"to,\" và nhiều từ khác. Tuy nhiên, danh sách stopwords có thể thay đổi tùy theo ngữ cảnh\n",
    "    stop_words = set(stopwords.words('english'))\n",
    "    words = [word for word in words if word.lower() not in stop_words]\n",
    "    print(\"6\",words)\n",
    "\n",
    "    # Loại bỏ từ không phổ biến (ví dụ: từ có độ dài ít hơn 3)\n",
    "    #words = [word for word in words if len(word) > 2]\n",
    "\n",
    "    return ' '.join(words)\n",
    "\n",
    "# Sử dụng hàm trên với một ví dụ\n",
    "example_text = \" 2 ! @ # ? , [] Thuan Goes to school and is good at jogging\"\n",
    "processed_text = preprocess_text(example_text)\n",
    "print(processed_text)\n",
    "\n"
   ]
  },
  {
   "cell_type": "markdown",
   "metadata": {},
   "source": [
    "# preprocessing việt nam\n"
   ]
  },
  {
   "cell_type": "markdown",
   "metadata": {},
   "source": [
    "#  Building a text normalizer"
   ]
  },
  {
   "cell_type": "code",
   "execution_count": null,
   "metadata": {},
   "outputs": [],
   "source": []
  },
  {
   "cell_type": "markdown",
   "metadata": {},
   "source": []
  },
  {
   "cell_type": "markdown",
   "metadata": {},
   "source": [
    "# test code của thầy "
   ]
  }
 ],
 "metadata": {
  "kernelspec": {
   "display_name": "Python 3",
   "language": "python",
   "name": "python3"
  },
  "language_info": {
   "codemirror_mode": {
    "name": "ipython",
    "version": 3
   },
   "file_extension": ".py",
   "mimetype": "text/x-python",
   "name": "python",
   "nbconvert_exporter": "python",
   "pygments_lexer": "ipython3",
   "version": "3.10.7"
  }
 },
 "nbformat": 4,
 "nbformat_minor": 2
}
